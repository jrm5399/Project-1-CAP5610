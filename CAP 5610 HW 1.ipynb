{
 "cells": [
  {
   "cell_type": "code",
   "execution_count": 3,
   "metadata": {},
   "outputs": [],
   "source": [
    "#library imports\n",
    "import numpy as np\n",
    "import pandas as pd\n",
    "import matplotlib.pyplot as plt"
   ]
  },
  {
   "cell_type": "code",
   "execution_count": 4,
   "metadata": {},
   "outputs": [],
   "source": [
    "#importing data\n",
    "gender = pd.read_csv(\"gender_submission.csv\")\n",
    "test = pd.read_csv(\"test.csv\")\n",
    "train = pd.read_csv(\"train.csv\")\n",
    "combine = pd.concat([train, test],axis=0)"
   ]
  },
  {
   "cell_type": "code",
   "execution_count": 3,
   "metadata": {},
   "outputs": [
    {
     "name": "stdout",
     "output_type": "stream",
     "text": [
      "     PassengerId  Survived  Pclass  \\\n",
      "0              1         0       3   \n",
      "1              2         1       1   \n",
      "2              3         1       3   \n",
      "3              4         1       1   \n",
      "4              5         0       3   \n",
      "..           ...       ...     ...   \n",
      "886          887         0       2   \n",
      "887          888         1       1   \n",
      "888          889         0       3   \n",
      "889          890         1       1   \n",
      "890          891         0       3   \n",
      "\n",
      "                                                  Name     Sex   Age  SibSp  \\\n",
      "0                              Braund, Mr. Owen Harris    male  22.0      1   \n",
      "1    Cumings, Mrs. John Bradley (Florence Briggs Th...  female  38.0      1   \n",
      "2                               Heikkinen, Miss. Laina  female  26.0      0   \n",
      "3         Futrelle, Mrs. Jacques Heath (Lily May Peel)  female  35.0      1   \n",
      "4                             Allen, Mr. William Henry    male  35.0      0   \n",
      "..                                                 ...     ...   ...    ...   \n",
      "886                              Montvila, Rev. Juozas    male  27.0      0   \n",
      "887                       Graham, Miss. Margaret Edith  female  19.0      0   \n",
      "888           Johnston, Miss. Catherine Helen \"Carrie\"  female   NaN      1   \n",
      "889                              Behr, Mr. Karl Howell    male  26.0      0   \n",
      "890                                Dooley, Mr. Patrick    male  32.0      0   \n",
      "\n",
      "     Parch            Ticket     Fare Cabin Embarked  \n",
      "0        0         A/5 21171   7.2500   NaN        S  \n",
      "1        0          PC 17599  71.2833   C85        C  \n",
      "2        0  STON/O2. 3101282   7.9250   NaN        S  \n",
      "3        0            113803  53.1000  C123        S  \n",
      "4        0            373450   8.0500   NaN        S  \n",
      "..     ...               ...      ...   ...      ...  \n",
      "886      0            211536  13.0000   NaN        S  \n",
      "887      0            112053  30.0000   B42        S  \n",
      "888      2        W./C. 6607  23.4500   NaN        S  \n",
      "889      0            111369  30.0000  C148        C  \n",
      "890      0            370376   7.7500   NaN        Q  \n",
      "\n",
      "[891 rows x 12 columns]\n"
     ]
    }
   ],
   "source": [
    "#Show the training data\n",
    "print(train)"
   ]
  },
  {
   "cell_type": "code",
   "execution_count": 4,
   "metadata": {},
   "outputs": [
    {
     "name": "stdout",
     "output_type": "stream",
     "text": [
      "         Survived      Pclass         Age       SibSp       Parch        Fare\n",
      "count  891.000000  891.000000  714.000000  891.000000  891.000000  891.000000\n",
      "mean     0.383838    2.308642   29.699118    0.523008    0.381594   32.204208\n",
      "std      0.486592    0.836071   14.526497    1.102743    0.806057   49.693429\n",
      "min      0.000000    1.000000    0.420000    0.000000    0.000000    0.000000\n",
      "25%      0.000000    2.000000   20.125000    0.000000    0.000000    7.910400\n",
      "50%      0.000000    3.000000   28.000000    0.000000    0.000000   14.454200\n",
      "75%      1.000000    3.000000   38.000000    1.000000    0.000000   31.000000\n",
      "max      1.000000    3.000000   80.000000    8.000000    6.000000  512.329200\n"
     ]
    }
   ],
   "source": [
    "#Show the numerical data Q7\n",
    "num = train[['Survived','Pclass','Age', 'SibSp', 'Parch', 'Fare']]\n",
    "\n",
    "print(num.describe())"
   ]
  },
  {
   "cell_type": "code",
   "execution_count": 5,
   "metadata": {},
   "outputs": [
    {
     "name": "stdout",
     "output_type": "stream",
     "text": [
      "       Embarked Cabin   Sex                                            Name\n",
      "count       889   204   891                                             891\n",
      "unique        3   147     2                                             891\n",
      "top           S    G6  male  Spencer, Mrs. William Augustus (Marie Eugenie)\n",
      "freq        644     4   577                                               1\n"
     ]
    }
   ],
   "source": [
    "#categorical features Q8\n",
    "cat = train [['Embarked', 'Cabin', 'Sex', 'Name']]\n",
    "print(cat.describe())"
   ]
  },
  {
   "cell_type": "code",
   "execution_count": 6,
   "metadata": {},
   "outputs": [
    {
     "name": "stdout",
     "output_type": "stream",
     "text": [
      "the total people who survived in class1 was 136 out of  216\n",
      "the average survival rate for class1 was higher than 50%\n",
      "class1 overall survival rate =  0.6296296296296297\n"
     ]
    }
   ],
   "source": [
    "#Correlation Pclass and survival rate Q9\n",
    "coor = train[['Pclass', 'Survived']]\n",
    "class1 = coor.Pclass == 1\n",
    "Survived = coor.Survived == 1\n",
    "count = 0\n",
    "total = 0\n",
    "\n",
    "for i in range(len(class1)):\n",
    "    if class1[i] == True:\n",
    "        total += 1\n",
    "\n",
    "#Finds the average \n",
    "for i in range(len(class1)):\n",
    "    if (class1[i] == True) and (Survived[i] == True):\n",
    "        count += 1\n",
    "\n",
    "\n",
    "#Calculating class1 average\n",
    "print(\"the total people who survived in class1 was\", count, \"out of \",  total)\n",
    "if count / total < .5:\n",
    "    print(\"the average survival rate was less then 50%\")\n",
    "    \n",
    "else:\n",
    "    print(\"the average survival rate for class1 was higher than 50%\")\n",
    "    \n",
    "print(\"class1 overall survival rate = \", count / total)"
   ]
  },
  {
   "cell_type": "code",
   "execution_count": 7,
   "metadata": {
    "scrolled": true
   },
   "outputs": [
    {
     "name": "stdout",
     "output_type": "stream",
     "text": [
      "Out of all the survivors  0.6812865497076024 were women\n",
      "Out of all the survivors 0.31871345029239767 were men\n",
      "Nearly 0.2615039281705948 women in total had survived\n"
     ]
    }
   ],
   "source": [
    "#Were women more likely to survive? Q10\n",
    "wcount = 0\n",
    "mcount = 0\n",
    "survived = train.Survived\n",
    "women = train.Sex == \"female\"\n",
    "wtotal = len(women)\n",
    "survived_total = 0\n",
    "\n",
    "#go through all the sexes\n",
    "for i in range(len(women)):\n",
    "    #calculate for women\n",
    "    if (women[i] == True) and (survived[i] == 1):\n",
    "        wcount += 1\n",
    "        survived_total += 1\n",
    "        \n",
    "    #calculate for men\n",
    "    if (women[i] == False) and (survived[i] == 1):\n",
    "        mcount += 1\n",
    "        survived_total += 1\n",
    "    \n",
    "    \n",
    "print(\"Out of all the survivors \", wcount / survived_total, \"were women\")\n",
    "print(\"Out of all the survivors\", mcount / survived_total, \"were men\")\n",
    "\n",
    "print(\"Nearly\", wcount / wtotal, \"women in total had survived\")"
   ]
  },
  {
   "cell_type": "code",
   "execution_count": 33,
   "metadata": {},
   "outputs": [
    {
     "data": {
      "image/png": "[encoded data removed]",
      "text/plain": [
       "<Figure size 432x288 with 1 Axes>"
      ]
     },
     "metadata": {
      "needs_background": "light"
     },
     "output_type": "display_data"
    },
    {
     "data": {
      "image/png": "[encoded data removed]",
      "text/plain": [
       "<Figure size 432x288 with 1 Axes>"
      ]
     },
     "metadata": {
      "needs_background": "light"
     },
     "output_type": "display_data"
    }
   ],
   "source": [
    "#plot between ages and survival Q11\n",
    "survival_data = pd.read_csv(\"train.csv\") #we call this dataset so we can pop the death count from it\n",
    "death_data = pd.read_csv(\"train.csv\")    #we call this dataset so we can pop the survived bodies from it\n",
    "survived_age = survival_data.Age\n",
    "dead_age = death_data.Age\n",
    "\n",
    "#calculate for survived\n",
    "for i in range(len(survived_age)):\n",
    "    if survival_data.Survived[i] != 1:\n",
    "        survived_age.pop(i)\n",
    "\n",
    "#calculate for dead\n",
    "for i in range(len(dead_age)):\n",
    "    if death_data.Survived[i] == 1:\n",
    "        dead_age.pop(i)\n",
    "        \n",
    "#survived\n",
    "plt.xlabel('Age')\n",
    "plt.ylabel('How many survived')\n",
    "plt.hist(survived_age)\n",
    "plt.show()\n",
    "\n",
    "#dead\n",
    "plt.xlabel('Age')\n",
    "plt.ylabel('How many died')\n",
    "plt.hist(dead_age)\n",
    "plt.show()"
   ]
  },
  {
   "cell_type": "code",
   "execution_count": 9,
   "metadata": {},
   "outputs": [
    {
     "data": {
      "text/plain": [
       "Text(0.5, 1.0, 'Pclass = 3 | Survived = 0')"
      ]
     },
     "execution_count": 9,
     "metadata": {},
     "output_type": "execute_result"
    },
    {
     "data": {
      "image/png": "[encoded data removed]",
      "text/plain": [
       "<Figure size 1080x1080 with 6 Axes>"
      ]
     },
     "metadata": {
      "needs_background": "light"
     },
     "output_type": "display_data"
    }
   ],
   "source": [
    "#Q12\n",
    "import seaborn as sns\n",
    "\n",
    "#Pclass = 1 & Survived = 1\n",
    "Pclass_Survived = train.loc[:, ['Age', 'Pclass', 'Survived']]\n",
    "P1_Survived = Pclass_Survived[Pclass_Survived['Survived'] == 1] \n",
    "P1_Survived = P1_Survived[P1_Survived['Pclass'] == 1]\n",
    "\n",
    "\n",
    "fig, axs = plt.subplots(ncols=2, nrows=3, figsize = [15,15])\n",
    "sns.histplot(x='Age', data=P1_Survived, ax=axs[0][0], bins=12).set_title('Pclass = 1 | Survived = 1')\n",
    "\n",
    "#Pclass = 1 & Survived = 0\n",
    "Pclass_dead = train.loc[:,['Age', 'Pclass', 'Survived']]\n",
    "P1_dead = Pclass_dead[Pclass_dead['Survived'] == 0]\n",
    "P1_dead = P1_dead[P1_dead['Pclass'] == 1]\n",
    "\n",
    "sns.histplot(x = 'Age', data= P1_dead, ax = axs[0][1], bins = 12).set_title('Pclass = 1 | Survived = 0')\n",
    "\n",
    "\n",
    "\n",
    "#Pclass = 2 & Survived = 1\n",
    "Pclass_Survived = train.loc[:, ['Age', 'Pclass', 'Survived']]\n",
    "P2_Survived = Pclass_Survived[Pclass_Survived['Survived'] == 1]\n",
    "P2_Survived = P2_Survived[P2_Survived['Pclass'] == 2]\n",
    "\n",
    "sns.histplot(x = 'Age', data = P2_Survived, ax = axs[1][0], bins = 12).set_title('Pclass = 2 | Survived = 1')\n",
    "\n",
    "\n",
    "#Pclass = 2 & Survived = 0\n",
    "Pclass_dead = train.loc[:,['Age', 'Pclass', 'Survived']]\n",
    "P2_dead = Pclass_dead[Pclass_dead['Survived'] == 0]\n",
    "P2_dead = P2_dead[P2_dead['Pclass'] == 2]\n",
    "\n",
    "sns.histplot(x = 'Age', data= P2_dead, ax = axs[1][1], bins = 12).set_title('Pclass = 2 | Survived = 0')\n",
    "\n",
    "#Pclass = 3 & Survived = 1\n",
    "Pclass_Survived = train.loc[:, ['Age', 'Pclass', 'Survived']]\n",
    "P3_Survived = Pclass_Survived[Pclass_Survived['Survived'] == 1]\n",
    "P3_Survived = P3_Survived[P3_Survived['Pclass'] == 3]\n",
    "\n",
    "sns.histplot(x = 'Age', data = P3_Survived, ax = axs[2][0], bins = 12).set_title('Pclass = 3 | Survived = 1')\n",
    "\n",
    "#Pclass = 3 & Survived = 0\n",
    "Pclass_dead = train.loc[:,['Age', 'Pclass', 'Survived']]\n",
    "P3_dead = Pclass_dead[Pclass_dead['Survived'] == 0]\n",
    "P3_dead = P2_dead[P2_dead['Pclass'] == 3]\n",
    "\n",
    "sns.histplot(x = 'Age', data= P2_dead, ax = axs[2][1], bins = 12).set_title('Pclass = 3 | Survived = 0')"
   ]
  },
  {
   "cell_type": "code",
   "execution_count": 94,
   "metadata": {},
   "outputs": [
    {
     "data": {
      "text/plain": [
       "Text(0.5, 1.0, 'Embarked = C | Survived = 0')"
      ]
     },
     "execution_count": 94,
     "metadata": {},
     "output_type": "execute_result"
    },
    {
     "data": {
      "image/png": "[encoded data removed]",
      "text/plain": [
       "<Figure size 1080x1080 with 6 Axes>"
      ]
     },
     "metadata": {
      "needs_background": "light"
     },
     "output_type": "display_data"
    }
   ],
   "source": [
    "#Q13\n",
    "fig, axs = plt.subplots(ncols=2, nrows=3, figsize = [15,15])\n",
    "\n",
    "#Embarked S Survived\n",
    "data = train.loc[:, ['Embarked', 'Fare', 'Survived', 'Sex']]\n",
    "S = data[data['Survived'] == 1]\n",
    "S = S[S['Embarked'] == 'S']\n",
    "\n",
    "sns.barplot(x = 'Sex', y = 'Fare', data = S, ax = axs[0,0]).set_title('Embarked = S | Survived = 1')\n",
    "\n",
    "\n",
    "\n",
    "#Embarked S Dead\n",
    "data = train.loc[:, ['Embarked', 'Fare', 'Survived', 'Sex']]\n",
    "S = data[data['Survived'] == 0] \n",
    "S = S[S['Embarked'] == 'S']\n",
    "\n",
    "sns.barplot(x = 'Sex', y = 'Fare', data = S, ax = axs[0,1]).set_title('Embarked = S | Survived = 0')\n",
    "\n",
    "\n",
    "#Embarked Q Survived\n",
    "data = train.loc[:, ['Embarked', 'Fare', 'Survived', 'Sex']]\n",
    "Q = data[data['Survived'] == 1] \n",
    "Q = Q[Q['Embarked'] == 'Q']\n",
    "\n",
    "sns.barplot(x = 'Sex', y = 'Fare', data = Q, ax = axs[1,0]).set_title('Embarked = Q | Survived = 1')\n",
    "\n",
    "\n",
    "\n",
    "#Embarked Q Dead\n",
    "data = train.loc[:, ['Embarked', 'Fare', 'Survived', 'Sex']]\n",
    "Q = data[data['Survived'] == 0] \n",
    "Q = Q[Q['Embarked'] == 'Q']\n",
    "\n",
    "sns.barplot(x = 'Sex', y = 'Fare', data = Q, ax = axs[1,1]).set_title('Embarked = Q | Survived = 0')\n",
    "\n",
    "\n",
    "\n",
    "#Embarked C Survived\n",
    "data = train.loc[:, ['Embarked', 'Fare', 'Survived', 'Sex']]\n",
    "C = data[data['Survived'] == 1] \n",
    "C = C[C['Embarked'] == 'C']\n",
    "\n",
    "sns.barplot(x = 'Sex', y = 'Fare', data = C, ax = axs[2,0]).set_title('Embarked = C | Survived = 1')\n",
    "\n",
    "\n",
    "\n",
    "#Embarked C Death\n",
    "data = train.loc[:, ['Embarked', 'Fare', 'Survived', 'Sex']]\n",
    "C = data[data['Survived'] == 0] \n",
    "C = C[C['Embarked'] == 'C']\n",
    "\n",
    "sns.barplot(x = 'Sex', y = 'Fare', data = C, ax = axs[2,1]).set_title('Embarked = C | Survived = 0')\n"
   ]
  },
  {
   "cell_type": "code",
   "execution_count": 10,
   "metadata": {},
   "outputs": [
    {
     "name": "stdout",
     "output_type": "stream",
     "text": [
      "count          891\n",
      "unique         681\n",
      "top       CA. 2343\n",
      "freq             7\n",
      "Name: Ticket, dtype: object\n",
      "Out of 891 Tickets 0.2356902356902357 are duplicated\n"
     ]
    }
   ],
   "source": [
    "#Q14\n",
    "data = train[['Ticket', 'Survived']]\n",
    "\n",
    "#duplicate tickets\n",
    "print(data['Ticket'].describe())\n",
    "print(\"Out of 891 Tickets\", (891 - 681) / 891, \"are duplicated\")\n"
   ]
  },
  {
   "cell_type": "code",
   "execution_count": 5,
   "metadata": {},
   "outputs": [
    {
     "name": "stdout",
     "output_type": "stream",
     "text": [
      "count     1309\n",
      "unique       2\n",
      "top       True\n",
      "freq      1014\n",
      "Name: Cabin, dtype: object\n"
     ]
    }
   ],
   "source": [
    "#Cabins Q15\n",
    "\n",
    "data = combine['Cabin'].isnull()\n",
    "print(data.describe())"
   ]
  },
  {
   "cell_type": "code",
   "execution_count": 10,
   "metadata": {},
   "outputs": [
    {
     "name": "stdout",
     "output_type": "stream",
     "text": [
      "[0 1 1 1 0 0 0 0 1 1 1 1 0 0 1 1 0 0 1 1 0 0 1 0 1 1 0 0 1 0 0 1 1 0 0 0 0\n",
      " 0 1 1 1 1 0 1 1 0 0 1 0 1 0 0 1 1 0 0 1 0 1 0 0 1 0 0 0 0 1 0 1 0 0 1 0 0\n",
      " 0 0 0 0 0 1 0 0 1 0 1 1 0 0 1 0 0 0 0 0 0 0 0 0 1 0 1 0 0 0 0 0 1 0 0 1 0\n",
      " 1 0 1 1 0 0 0 0 1 0 0 0 1 0 0 0 0 1 0 0 0 1 1 0 0 1 0 0 0 1 1 1 0 0 0 0 1\n",
      " 0 0 0 1 0 0 0 0 1 0 0 0 0 1 0 0 0 0 1 1 0 0 0 0 1 0 0 0 0 1 0 0 1 0 0 0 1\n",
      " 0 1 0 0 0 1 0 1 0 1 1 0 0 1 1 0 0 0 0 0 1 0 0 1 0 0 1 0 0 0 1 1 0 1 0 0 0\n",
      " 0 0 0 0 0 0 0 1 1 0 0 1 0 1 0 1 0 0 1 1 0 0 0 0 1 1 0 0 0 1 0 0 1 1 1 1 1\n",
      " 1 0 0 0 0 1 0 0 0 1 1 0 0 1 0 1 1 1 0 0 1 0 0 0 0 0 0 0 0 0 1 1 1 0 1 0 0\n",
      " 0 1 0 1 1 0 0 1 0 0 1 1 0 1 1 1 1 0 0 1 1 0 1 1 0 0 1 1 0 1 0 1 1 1 1 0 0\n",
      " 0 1 0 0 1 0 0 0 1 0 0 0 1 1 1 0 0 0 0 0 0 0 0 1 1 1 1 0 0 1 0 0 0 1 1 1 1\n",
      " 0 0 0 0 1 1 1 0 0 0 1 1 0 1 0 0 0 1 0 1 0 0 0 1 1 0 1 0 0 1 0 0 1 0 1 0 0\n",
      " 0 0 1 0 0 1 0 0 1 1 1 0 1 0 0 0 1 0 0 1 1 0 0 0 1 1 0 0 1 1 1 0 0 1 0 0 1\n",
      " 0 0 1 0 1 0 0 0 0 0 0 0 0 1 1 0 0 0 0 0 0 0 0 0 0 1 0 0 1 1 1 0 0 0 0 1 0\n",
      " 0 0 1 0 1 1 0 0 0 0 0 0 0 0 0 1 0 1 0 0 1 1 1 1 0 1 0 0 0 0 0 0 1 0 0 1 0\n",
      " 1 0 1 0 0 1 0 0 1 0 0 0 1 0 0 1 1 1 0 1 0 1 1 1 1 0 0 0 1 0 0 0 0 0 0 0 1\n",
      " 0 1 0 1 1 0 0 0 0 1 0 0 1 0 0 0 1 0 1 0 0 1 1 1 0 1 1 0 0 0 1 0 0 0 0 0 1\n",
      " 0 1 0 0 1 0 0 0 1 0 0 0 0 0 0 0 1 1 1 0 1 0 0 1 0 1 1 0 0 0 0 0 0 0 0 1 0\n",
      " 0 0 0 0 0 1 1 0 0 1 0 0 1 1 0 1 0 0 0 0 1 0 1 0 1 1 0 0 1 0 0 0 0 0 0 0 0\n",
      " 0 0 0 1 1 0 0 0 0 0 0 1 1 0 1 0 0 0 0 0 0 0 0 1 0 1 0 0 0 0 0 1 0 0 1 0 1\n",
      " 0 0 0 1 0 1 0 1 0 0 0 0 0 1 1 0 0 1 0 0 0 0 0 1 1 0 1 1 0 0 0 0 0 1 0 0 0\n",
      " 0 0 1 0 0 0 0 1 0 0 1 0 0 0 1 0 0 0 0 1 0 0 0 1 0 1 0 1 0 0 0 0 1 0 1 0 0\n",
      " 1 0 1 1 1 0 0 0 0 1 0 0 0 0 0 1 0 0 0 1 1 0 1 0 1 0 0 0 0 0 1 0 1 0 0 0 1\n",
      " 0 0 1 0 0 0 1 0 0 1 0 0 0 0 0 1 1 0 0 0 0 1 0 0 0 0 0 0 1 0 0 0 0 0 0 1 0\n",
      " 0 1 1 1 1 1 0 1 0 0 0 1 1 0 1 1 0 0 0 0 1 0 0 1 1 0 0 0 1 1 0 1 0 0 1 0 1\n",
      " 1 0 0]\n"
     ]
    }
   ],
   "source": [
    "#Convert Sex to Gender Q16\n",
    "train = pd.read_csv(\"train.csv\")\n",
    "sex = train['Sex']\n",
    "gender = np.empty(len(sex), dtype = int)\n",
    "\n",
    "for i in range(len(gender)):\n",
    "    if sex[i] == \"female\":\n",
    "        gender[i] = 1\n",
    "    if sex[i] == \"male\":\n",
    "        gender[i] = 0\n",
    "   \n",
    "print(gender)"
   ]
  },
  {
   "cell_type": "code",
   "execution_count": 50,
   "metadata": {},
   "outputs": [
    {
     "name": "stdout",
     "output_type": "stream",
     "text": [
      "0      22.000000\n",
      "1      38.000000\n",
      "2      26.000000\n",
      "3      35.000000\n",
      "4      35.000000\n",
      "         ...    \n",
      "886    27.000000\n",
      "887    19.000000\n",
      "888    18.083622\n",
      "889    26.000000\n",
      "890    32.000000\n",
      "Name: Age, Length: 891, dtype: float64\n"
     ]
    }
   ],
   "source": [
    "#K nearest Neighbor for Age Q17\n",
    "from random import uniform\n",
    "data = train.copy()\n",
    "data = train['Age']\n",
    "\n",
    "bool_data = data.isnull()\n",
    "mean = data.mean()\n",
    "std = data.std()\n",
    "\n",
    "for i in range(len(bool_data)):\n",
    "    if bool_data[i] == True: #if its null then insert a random value between the std and mean\n",
    "        data[i] = uniform(std,mean) #uniform a for floats\n",
    "        \n",
    "print(data)"
   ]
  },
  {
   "cell_type": "code",
   "execution_count": 40,
   "metadata": {},
   "outputs": [
    {
     "name": "stdout",
     "output_type": "stream",
     "text": [
      "0      S\n",
      "1      C\n",
      "2      S\n",
      "3      S\n",
      "4      S\n",
      "      ..\n",
      "886    S\n",
      "887    S\n",
      "888    S\n",
      "889    C\n",
      "890    Q\n",
      "Name: Embarked, Length: 891, dtype: object\n"
     ]
    }
   ],
   "source": [
    "#Filling in Embarked Q18\n",
    "data = train['Embarked']\n",
    "bool_data = pd.isnull(data)\n",
    "\n",
    "for i in range(len(bool_data)):\n",
    "    if bool_data[i] == True:\n",
    "        data[i] == 'S'\n",
    "print(data)"
   ]
  },
  {
   "cell_type": "code",
   "execution_count": 39,
   "metadata": {},
   "outputs": [
    {
     "name": "stdout",
     "output_type": "stream",
     "text": [
      "0       7.2500\n",
      "1      71.2833\n",
      "2       7.9250\n",
      "3      53.1000\n",
      "4       8.0500\n",
      "        ...   \n",
      "886    13.0000\n",
      "887    30.0000\n",
      "888    23.4500\n",
      "889    30.0000\n",
      "890     7.7500\n",
      "Name: Fare, Length: 891, dtype: float64\n"
     ]
    }
   ],
   "source": [
    "#Filling in Fare Q19\n",
    "data = test['Fare']\n",
    "bool_data = pd.isnull(data)\n",
    "\n",
    "\n",
    "for i in range(len(bool_data)):\n",
    "    if bool_data[i] == True:\n",
    "        data[i] = 8.05\n",
    "\n",
    "print(data)"
   ]
  },
  {
   "cell_type": "code",
   "execution_count": 38,
   "metadata": {},
   "outputs": [
    {
     "name": "stdout",
     "output_type": "stream",
     "text": [
      "0      0.0\n",
      "1      3.0\n",
      "2      1.0\n",
      "3      3.0\n",
      "4      1.0\n",
      "      ... \n",
      "886    1.0\n",
      "887    2.0\n",
      "888    2.0\n",
      "889    2.0\n",
      "890    0.0\n",
      "Name: Fare, Length: 891, dtype: float64\n"
     ]
    }
   ],
   "source": [
    "train = pd.read_csv(\"train.csv\")\n",
    "data = train.copy()\n",
    "data = data['Fare']\n",
    "\n",
    "for i in range(len(data)):\n",
    "    if -.001 < data[i] <= 7.91:\n",
    "        data[i] = 0\n",
    "    elif 7.91 < data[i] <= 14.454:\n",
    "        data[i] = 1\n",
    "    elif 14.454 < data[i] <= 31.0:\n",
    "        data[i] = 2\n",
    "    elif 31.0 < data[i] <= 512.329:\n",
    "        data[i] = 3\n",
    "        \n",
    "print(data)"
   ]
  },
  {
   "cell_type": "code",
   "execution_count": null,
   "metadata": {},
   "outputs": [],
   "source": []
  }
 ],
 "metadata": {
  "kernelspec": {
   "display_name": "Python 3",
   "language": "python",
   "name": "python3"
  },
  "language_info": {
   "codemirror_mode": {
    "name": "ipython",
    "version": 3
   },
   "file_extension": ".py",
   "mimetype": "text/x-python",
   "name": "python",
   "nbconvert_exporter": "python",
   "pygments_lexer": "ipython3",
   "version": "3.7.3"
  }
 },
 "nbformat": 4,
 "nbformat_minor": 4
}
